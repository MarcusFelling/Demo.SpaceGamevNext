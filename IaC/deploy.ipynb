{
 "cells": [
  {
   "cell_type": "markdown",
   "metadata": {},
   "source": [
    "# Space Game Infrastructure\r\n",
    "\r\n",
    "This notebook deploys all of the required infrastructure for Space Game. It's intended use is for development purposes and should not be used in production.\r\n",
    "\r\n",
    "Requirements:\r\n",
    "- [VS Code](https://code.visualstudio.com/)\r\n",
    "- [Azure subcription](https://azure.microsoft.com/subcriptions/free)\r\n",
    "- [Azure CLI](https://aka.ms/getazcli)"
   ]
  },
  {
   "cell_type": "markdown",
   "metadata": {},
   "source": [
    "## Setup:\r\n",
    "- Navigate to local directory where repo is cloned\r\n",
    "- Login to Azure"
   ]
  },
  {
   "cell_type": "code",
   "execution_count": null,
   "metadata": {
    "dotnet_interactive": {
     "language": "csharp"
    }
   },
   "outputs": [],
   "source": [
    "#!powershell\r\n",
    "$WORKINGDIR = \"C:\\Git\\Demo.SpaceGamevNext\"\r\n",
    "cd $WORKINGDIR\r\n",
    "az login"
   ]
  },
  {
   "cell_type": "markdown",
   "metadata": {},
   "source": [
    "## Set parameters"
   ]
  },
  {
   "cell_type": "code",
   "execution_count": null,
   "metadata": {
    "dotnet_interactive": {
     "language": "csharp"
    }
   },
   "outputs": [],
   "source": [
    "#!powershell\r\n",
    "$APPNAME = \"spacegamevnext\" # Name of app. Used for prefix in resource group, service plan, app service, container images, sql server and database.\r\n",
    "$REGISTRYNAME = \"marcusfellingspacegamevnextacr\" # Registry that is shared across environments. Must be globally unique and lowercase.\r\n",
    "$LOCATION = \"WestUS\" # Region for all Azure resources without spaces. https://azure.microsoft.com/en-us/global-infrastructure/geographies/#geographies\r\n",
    "$ENVIRONMENTNAME = \"dev\" # Name of your environment that will contain it's own set of resources for web app and db e.g. dev, test, local, etc.\r\n",
    "$TAG = \"latest\" # Container image tag.\r\n",
    "$DBUSERNAME = \"notarealusername\" # Name of SQL Server user. In non-dev environments, should be passed using GitHub Secret.\r\n",
    "$DBPASSWORD = \" \" # Password for SQL Server user. In non-dev environments, should be passed using GitHub Secret."
   ]
  },
  {
   "cell_type": "markdown",
   "metadata": {},
   "source": [
    "## Preview\r\n",
    "Before deploying the Bicep template, you can preview the changes that will happen. The what-if operation doesn't make any changes to existing resources. Instead, it predicts the changes if the specified template is deployed."
   ]
  },
  {
   "cell_type": "code",
   "execution_count": null,
   "metadata": {
    "dotnet_interactive": {
     "language": "csharp"
    }
   },
   "outputs": [],
   "source": [
    "#!powershell\r\n",
    "az deployment sub what-if \\\r\n",
    "            --name \"spacegamedeploy-$ENVIRONMENTNAME\" \\\r\n",
    "            --location $LOCATION \\\r\n",
    "            --template-file IaC/main.bicep \\\r\n",
    "            --parameters appName=$APPNAME \\\r\n",
    "                         environmentName=$ENVIRONMENTNAME \\\r\n",
    "                         registryName=$REGISTRYNAME \\\r\n",
    "                         tag=$TAG \\\r\n",
    "                         dbUserName=$DBUSERNAME \\\r\n",
    "                         dbPassword=$DBPASSWORD"
   ]
  },
  {
   "cell_type": "markdown",
   "metadata": {},
   "source": [
    "## Deploy"
   ]
  },
  {
   "cell_type": "code",
   "execution_count": null,
   "metadata": {
    "dotnet_interactive": {
     "language": "csharp"
    }
   },
   "outputs": [],
   "source": [
    "#!powershell\r\n",
    "az deployment sub create \\\r\n",
    "            --name \"spacegamedeploy-$ENVIRONMENTNAME\" \\\r\n",
    "            --location $LOCATION \\\r\n",
    "            --template-file IaC/main.bicep \\\r\n",
    "            --parameters appName=$APPNAME \\\r\n",
    "                         environmentName=$ENVIRONMENTNAME \\\r\n",
    "                         registryName=$REGISTRYNAME \\\r\n",
    "                         tag=$TAG \\\r\n",
    "                         dbUserName=$DBUSERNAME \\\r\n",
    "                         dbPassword=$DBPASSWORD"
   ]
  }
 ],
 "metadata": {
  "kernelspec": {
   "display_name": ".NET (C#)",
   "language": "C#",
   "name": ".net-csharp"
  },
  "language_info": {
   "file_extension": ".cs",
   "mimetype": "text/x-csharp",
   "name": "C#",
   "pygments_lexer": "csharp",
   "version": "9.0"
  },
  "orig_nbformat": 2
 },
 "nbformat": 4,
 "nbformat_minor": 2
}